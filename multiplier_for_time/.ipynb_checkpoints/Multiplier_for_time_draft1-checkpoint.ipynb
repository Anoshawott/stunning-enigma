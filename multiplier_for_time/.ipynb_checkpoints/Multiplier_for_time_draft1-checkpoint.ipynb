{
 "cells": [
  {
   "cell_type": "markdown",
   "metadata": {
    "colab_type": "text",
    "id": "D3GeGepQ9SgC"
   },
   "source": [
    "## Building Multipliers on Overall Optimism and Confidence"
   ]
  },
  {
   "cell_type": "code",
   "execution_count": 1,
   "metadata": {
    "colab": {},
    "colab_type": "code",
    "id": "t2DDcrTldrea"
   },
   "outputs": [],
   "source": [
    "x = 0\n",
    "y = 0"
   ]
  },
  {
   "cell_type": "code",
   "execution_count": 2,
   "metadata": {
    "colab": {
     "base_uri": "https://localhost:8080/",
     "height": 68
    },
    "colab_type": "code",
    "id": "rCQAxBi-qUUD",
    "outputId": "e32a713d-9f76-44ea-d05c-519fd55b1e24"
   },
   "outputs": [
    {
     "name": "stdout",
     "output_type": "stream",
     "text": [
      "Pick a number on the scale:\n",
      "How I organise myself...\n",
      " I complete the tasks as they come|1-----o2-----o3-----o4-----5|I have a to do list and complete the tasks:     2\n"
     ]
    }
   ],
   "source": [
    "print('Pick a number on the scale:')\n",
    "t = 0\n",
    "while t == 0:\n",
    "  x1 = input(\"How I organise myself...\\n I complete the tasks as they come|1-----o2-----o3-----o4-----5|I have a to do list and complete the tasks:     \")\n",
    "  if x1 == '1':\n",
    "    x1 = -2\n",
    "    x += x1\n",
    "    t += 1\n",
    "  elif x1 == '2':\n",
    "    x1 = -1\n",
    "    x += x1\n",
    "    t += 1\n",
    "  elif x1 == '3':\n",
    "    x1 = 0\n",
    "    x += x1\n",
    "    t += 1\n",
    "  elif x1 == '4':\n",
    "    x1 = 1\n",
    "    x += x1\n",
    "    t += 1\n",
    "  elif x1 == '5':\n",
    "    x1 = 2\n",
    "    x += x1\n",
    "    t += 1\n",
    "  else:\n",
    "    print('Please try again, input a number from the scale...')"
   ]
  },
  {
   "cell_type": "code",
   "execution_count": 3,
   "metadata": {
    "colab": {
     "base_uri": "https://localhost:8080/",
     "height": 68
    },
    "colab_type": "code",
    "id": "JFTOH7B7sO_8",
    "outputId": "65322b3e-a54b-4121-fdf2-3875be08a36c"
   },
   "outputs": [
    {
     "name": "stdout",
     "output_type": "stream",
     "text": [
      "Pick a number on the scale:\n",
      "In what style do I complete my tasks?\n",
      " Pomodoro (25min blocks with 5min breaks)|1-----o2-----o3-----o4-----5|Large blocks (3-5hr blocks non-stop):     4\n"
     ]
    }
   ],
   "source": [
    "print('Pick a number on the scale:')\n",
    "t = 0\n",
    "while t == 0:\n",
    "  x2 = input(\"In what style do I complete my tasks?\\n Pomodoro (25min blocks with 5min breaks)|1-----o2-----o3-----o4-----5|Large blocks (3-5hr blocks non-stop):     \")\n",
    "  if x2 == '1':\n",
    "    x2 = 2\n",
    "    x += x2\n",
    "    t += 1\n",
    "  elif x2 == '2':\n",
    "    x2 = 1\n",
    "    x += x2\n",
    "    t += 1\n",
    "  elif x2 == '3':\n",
    "    x2 = 0\n",
    "    x += x2\n",
    "    t += 1\n",
    "  elif x2 == '4':\n",
    "    x2 = -1\n",
    "    x += x2\n",
    "    t += 1\n",
    "  elif x2 == '5':\n",
    "    x2 = -2\n",
    "    x += x2\n",
    "    t += 1\n",
    "  else:\n",
    "    print('Please try again, input a number from the scale...')\n"
   ]
  },
  {
   "cell_type": "code",
   "execution_count": 4,
   "metadata": {
    "colab": {
     "base_uri": "https://localhost:8080/",
     "height": 68
    },
    "colab_type": "code",
    "id": "9TxuBQafuEIb",
    "outputId": "0822842e-3ebc-4e8c-d0a8-0d4cd7781106"
   },
   "outputs": [
    {
     "name": "stdout",
     "output_type": "stream",
     "text": [
      "Pick a number on the scale:\n",
      "Schedules make me...\n",
      " Stressed|1-----o2-----o3-----o4-----5|Relieved:     2\n"
     ]
    }
   ],
   "source": [
    "print('Pick a number on the scale:')\n",
    "t = 0\n",
    "while t == 0:\n",
    "  y1 = input(\"Schedules make me...\\n Stressed|1-----o2-----o3-----o4-----5|Relieved:     \")\n",
    "  if y1 == '1':\n",
    "    y1 = -2\n",
    "    y += y1\n",
    "    t += 1\n",
    "  elif y1 == '2':\n",
    "    y1 = -1\n",
    "    y += y1\n",
    "    t += 1\n",
    "  elif y1 == '3':\n",
    "    y1 = 0\n",
    "    y += y1\n",
    "    t += 1\n",
    "  elif y1 == '4':\n",
    "    y1 = 1\n",
    "    y += y1\n",
    "    t += 1\n",
    "  elif y1 == '5':\n",
    "    y1 = 2\n",
    "    y += y1\n",
    "    t += 1\n",
    "  else:\n",
    "    print('Please try again, input a number from the scale...')"
   ]
  },
  {
   "cell_type": "code",
   "execution_count": 5,
   "metadata": {
    "colab": {
     "base_uri": "https://localhost:8080/",
     "height": 68
    },
    "colab_type": "code",
    "id": "5lXg-6cVvMHi",
    "outputId": "21f50734-1263-4237-a97b-0f6c6fe5a6db"
   },
   "outputs": [
    {
     "name": "stdout",
     "output_type": "stream",
     "text": [
      "Pick a number on the scale:\n",
      "How long do you usually spend trying to plan or organise yourself for the week?\n",
      " 10min|-----o30mins-----o1hr-----o1hr 30mins-----2hrs|:     2hrs\n"
     ]
    }
   ],
   "source": [
    "print('Pick a number on the scale:')\n",
    "t = 0\n",
    "while t == 0:\n",
    "  x3 = input(\"How long do you usually spend trying to plan or organise yourself for the week?\\n 10mins|-----o30mins-----o1hr-----o1hr 30mins-----2hrs|:     \")\n",
    "  if x3 == '10mins':\n",
    "    x3 = 2\n",
    "    x += x3\n",
    "    t += 1\n",
    "  elif x3 == '30mins':\n",
    "    x3 = 1\n",
    "    x += x3\n",
    "    t += 1\n",
    "  elif x3 == '1hr':\n",
    "    x3 = 0\n",
    "    x += x3\n",
    "    t += 1\n",
    "  elif x3 == '1hr 30mins':\n",
    "    x3 = -1\n",
    "    x += x3\n",
    "    t += 1\n",
    "  elif x3 == '2hrs':\n",
    "    x3 = -2\n",
    "    x += x3\n",
    "    t += 1\n",
    "  else:\n",
    "    print('Please try again, input a number from the scale...')"
   ]
  },
  {
   "cell_type": "code",
   "execution_count": 6,
   "metadata": {
    "colab": {
     "base_uri": "https://localhost:8080/",
     "height": 68
    },
    "colab_type": "code",
    "id": "UhzOjLDuwMhp",
    "outputId": "261b68bf-8781-4d9b-ed82-7cb359eeaef1"
   },
   "outputs": [
    {
     "name": "stdout",
     "output_type": "stream",
     "text": [
      "Pick a number on the scale:\n",
      "When I try to organise myself...\n",
      " I know some tasks might prevent me from completing all tasks|1-----o2-----o3-----o4-----5|I hope to get everything done:     2\n"
     ]
    }
   ],
   "source": [
    "print('Pick a number on the scale:')\n",
    "t = 0\n",
    "while t == 0:\n",
    "  y2 = input(\"When I try to organise myself...\\n I know some tasks might prevent me from completing all tasks|1-----o2-----o3-----o4-----5|I hope to get everything done:     \")\n",
    "  if y2 == '1':\n",
    "    y2 = -2\n",
    "    y += y2\n",
    "    t += 1\n",
    "  elif y2 == '2':\n",
    "    y2 = -1\n",
    "    y += y2\n",
    "    t += 1\n",
    "  elif y2 == '3':\n",
    "    y2 = 0\n",
    "    y += y2\n",
    "    t += 1\n",
    "  elif y2 == '4':\n",
    "    y2 = 1\n",
    "    y += y2\n",
    "    t += 1\n",
    "  elif y2 == '5':\n",
    "    y2 = 2\n",
    "    y += y2\n",
    "    t += 1\n",
    "  else:\n",
    "    print('Please try again, input a number from the scale...')"
   ]
  },
  {
   "cell_type": "code",
   "execution_count": 7,
   "metadata": {
    "colab": {
     "base_uri": "https://localhost:8080/",
     "height": 68
    },
    "colab_type": "code",
    "id": "oJan0cV3w54p",
    "outputId": "646aba26-d2ca-491f-b0cd-b44edadf4a19"
   },
   "outputs": [
    {
     "name": "stdout",
     "output_type": "stream",
     "text": [
      "Pick a number on the scale:\n",
      "My ways of scheduling usually provide me:\n",
      " Opportunities to succeed|1-----o2-----o3-----o4-----5|Opportunities to do more:     3\n"
     ]
    }
   ],
   "source": [
    "print('Pick a number on the scale:')\n",
    "t = 0\n",
    "while t == 0:\n",
    "  y3 = input(\"My ways of scheduling usually provide me:\\n Opportunities to succeed|1-----o2-----o3-----o4-----5|Opportunities to do more:     \")\n",
    "  if y3 == '1':\n",
    "    y3 = 2\n",
    "    y += y3\n",
    "    t += 1\n",
    "  elif y3 == '2':\n",
    "    y3 = 1\n",
    "    y += y3\n",
    "    t += 1\n",
    "  elif y3 == '3':\n",
    "    y3 = -1\n",
    "    y += y3\n",
    "    t += 1\n",
    "  elif y3 == '4':\n",
    "    y3 = 1\n",
    "    y += y3\n",
    "    t += 1\n",
    "  elif y3 == '5':\n",
    "    y3 = 2\n",
    "    y += y3\n",
    "    t += 1\n",
    "  else:\n",
    "    print('Please try again, input a number from the scale...')"
   ]
  },
  {
   "cell_type": "code",
   "execution_count": 8,
   "metadata": {
    "colab": {
     "base_uri": "https://localhost:8080/",
     "height": 51
    },
    "colab_type": "code",
    "id": "7WksQc381s1r",
    "outputId": "d22feb85-6386-4328-8f93-fe87bf28409a"
   },
   "outputs": [
    {
     "name": "stdout",
     "output_type": "stream",
     "text": [
      "-4\n",
      "-3\n"
     ]
    }
   ],
   "source": [
    "print(x)\n",
    "print(y)"
   ]
  },
  {
   "cell_type": "code",
   "execution_count": 64,
   "metadata": {
    "colab": {
     "base_uri": "https://localhost:8080/",
     "height": 51
    },
    "colab_type": "code",
    "id": "2cqVnaMD1gTO",
    "outputId": "fa7c856e-3026-4ae9-c543-15ce8e7ab310"
   },
   "outputs": [
    {
     "name": "stdout",
     "output_type": "stream",
     "text": [
      "-----------Overall Confidence and Optimism-----------\n",
      "Confidence: -0.4444444444444444\n",
      "Optimism: -0.3333333333333333\n"
     ]
    }
   ],
   "source": [
    "print('-----------Overall Confidence and Optimism-----------')\n",
    "print('Confidence:', x/3)\n",
    "print('Optimism:', y/3)"
   ]
  },
  {
   "cell_type": "code",
   "execution_count": 10,
   "metadata": {
    "colab": {},
    "colab_type": "code",
    "id": "3ugZBbuy8zpD"
   },
   "outputs": [],
   "source": [
    "x = x/3\n",
    "y = y/3"
   ]
  },
  {
   "cell_type": "code",
   "execution_count": 73,
   "metadata": {
    "colab": {},
    "colab_type": "code",
    "id": "g7wA1un22I14"
   },
   "outputs": [],
   "source": [
    "from math import exp, ceil"
   ]
  },
  {
   "cell_type": "code",
   "execution_count": 33,
   "metadata": {
    "colab": {
     "base_uri": "https://localhost:8080/",
     "height": 34
    },
    "colab_type": "code",
    "id": "0oN7Rgx1Y_YS",
    "outputId": "3212a74c-7839-4bdd-9487-59b60535b885"
   },
   "outputs": [
    {
     "name": "stdout",
     "output_type": "stream",
     "text": [
      "2.718281828459045\n"
     ]
    }
   ],
   "source": [
    "#g = float(exp(1))"
   ]
  },
  {
   "cell_type": "code",
   "execution_count": 61,
   "metadata": {
    "colab": {},
    "colab_type": "code",
    "id": "kBSkhmIr3P5P"
   },
   "outputs": [],
   "source": [
    "def time_multi(a, b):\n",
    "  if a >= 0 and b >= 0:\n",
    "    num_1 = -3*(exp(-((a)**2+(b)**2)**2))+4\n",
    "    return num_1\n",
    "  elif a >= 0 and b <= 0:\n",
    "    new_val = a + b\n",
    "    if new_val >= 0:\n",
    "      b = new_val\n",
    "      num_2 = -3*(exp(-((a)**2+(b)**2)**2))+4\n",
    "      return num_2\n",
    "    elif new_val <= 0:\n",
    "      a = new_val\n",
    "      num_3 = exp(-((a)**2+(b)**2)**2)\n",
    "      return num_3\n",
    "  elif a <= 0 and b >= 0:\n",
    "    new_val = b + a\n",
    "    if new_val >= 0:\n",
    "      a = new_val\n",
    "      num_4 = -3*(exp(-((a)**2+(b)**2)**2))+4\n",
    "      return num_4\n",
    "    elif new_val <= 0:\n",
    "      b = new_val\n",
    "      num_5 = exp(-((a)**2+(b)**2)**2)\n",
    "      return num_5\n",
    "  elif a <= 0 and b <= 0:\n",
    "    num_6 = exp(-((a)**2+(b)**2)**2)\n",
    "    return num_6"
   ]
  },
  {
   "cell_type": "code",
   "execution_count": 62,
   "metadata": {
    "colab": {
     "base_uri": "https://localhost:8080/",
     "height": 300
    },
    "colab_type": "code",
    "id": "Nt8wEqCv7nQa",
    "outputId": "597900d9-c413-456e-8441-884f0c026939"
   },
   "outputs": [
    {
     "name": "stdout",
     "output_type": "stream",
     "text": [
      "0.0004456175955920163\n"
     ]
    }
   ],
   "source": [
    "multi_1 = time_multi(x, y)\n",
    "print(multi_1)"
   ]
  },
  {
   "cell_type": "code",
   "execution_count": null,
   "metadata": {},
   "outputs": [],
   "source": [
    "if multi_1 < 0.25:\n",
    "    multi_1 = 0.25\n",
    "    print('New multi_1 adjustment:', multi_1)"
   ]
  },
  {
   "cell_type": "markdown",
   "metadata": {
    "colab_type": "text",
    "id": "mqwE3u_K9H9r"
   },
   "source": [
    "## Building Confidence Multipliers based on individual tasks"
   ]
  },
  {
   "cell_type": "code",
   "execution_count": 18,
   "metadata": {
    "colab": {},
    "colab_type": "code",
    "id": "4AAjXzHs9G6V"
   },
   "outputs": [
    {
     "name": "stdout",
     "output_type": "stream",
     "text": [
      "Three point estimation - Provide the following estimations for the total time in hours you wish to spend for the task:\n",
      "NOTE: Use decimal notation for mins.\n",
      "Best-case scenario estimate: 35\n",
      "Worst-case scenario estimate: 34\n",
      "Most-likely-case scenario estimate: 23\n",
      "Please input a number in between 34.0 and 35.0\n",
      "Most-likely-case scenario estimate: 32\n",
      "Please input a number in between 34.0 and 35.0\n",
      "Most-likely-case scenario estimate: 34.5\n"
     ]
    }
   ],
   "source": [
    "print('Three point estimation - Provide the following estimations for the total time in hours you wish to spend for the task:')\n",
    "print('NOTE: Use decimal notation for mins.')\n",
    "t = 0\n",
    "while t == 0:\n",
    "  x_1 = input('Best-case scenario estimate: ')\n",
    "  try:\n",
    "    x_1 = float(x_1)\n",
    "  except:\n",
    "    print('Please input a number...')\n",
    "  else:\n",
    "    t += 1\n",
    "\n",
    "t1 = 0\n",
    "while t1 == 0:\n",
    "  y_1 = input('Worst-case scenario estimate: ')\n",
    "  try:\n",
    "    y_1 = float(y_1)\n",
    "  except:\n",
    "    print('Please input a number...')\n",
    "  else:\n",
    "    if x_1 > y_1:\n",
    "        t1 += 1\n",
    "    else:\n",
    "        print('Please input a number less than', x_1)\n",
    "\n",
    "t2 = 0\n",
    "while t2 == 0:\n",
    "  z_1 = input('Most-likely-case scenario estimate: ')\n",
    "  try:\n",
    "    z_1 = float(z_1)\n",
    "  except:\n",
    "    print('Please input a number...')\n",
    "  else:\n",
    "    if z_1 > y_1 and z_1 < x_1:\n",
    "        t2 += 1\n",
    "    else:\n",
    "        print('Please input a number in between', y_1 ,'and', x_1)"
   ]
  },
  {
   "cell_type": "code",
   "execution_count": 36,
   "metadata": {
    "colab": {},
    "colab_type": "code",
    "id": "NuvyA0Jh_fu2"
   },
   "outputs": [
    {
     "name": "stdout",
     "output_type": "stream",
     "text": [
      "Confidence: 1.8857142857142857\n",
      "Optimism: 1.9428571428571428\n"
     ]
    }
   ],
   "source": [
    "j = -((x_1 - y_1)/x_1 * 4 + (-2))\n",
    "k = -((x_1 - z_1)/x_1 * 4 + (-2))\n",
    "print('-----------Confidence and optimism for the individual task-----------')\n",
    "print('Confidence:', j)\n",
    "print('Optimism:', k)"
   ]
  },
  {
   "cell_type": "code",
   "execution_count": 55,
   "metadata": {
    "colab": {},
    "colab_type": "code",
    "id": "Ueed6--0YAh-"
   },
   "outputs": [
    {
     "data": {
      "text/plain": [
       "'\\ndef time_multi2(a, b):\\n  if a > 0 and b > 0:\\n    v_1 = -3*(math.exp(-((a)**2+(b)**2)**2))+4\\n    return v_1\\n  elif a > 0 and b < 0:\\n    new_val = a + b\\n    if new_val >= 0:\\n      b = new_val\\n      v_2 = -3*(math.exp(-(a**2+b**2)**2))+4\\n      return v_2\\n    elif new_val <= 0:\\n      a = new_val\\n      v_3 = math.exp(-(a**2+b**2)**2)\\n      return v_3\\n  elif a < 0 and b > 0:\\n    new_val = b + a\\n    if new_val >= 0:\\n      a = new_val\\n      v_4 = -3*(math.exp(-(a**2+b**2)**2))+4\\n      return v_4\\n    elif new_val <= 0:\\n      b = new_val\\n      v_5 = math.exp(-(a**2+b**2)**2)\\n      return v_5\\n  elif a < 0 and b < 0:\\n    v_6 = math.exp(-(a**2+b**2)**2)\\n    return v_6\\n'"
      ]
     },
     "execution_count": 55,
     "metadata": {},
     "output_type": "execute_result"
    }
   ],
   "source": [
    "'''\n",
    "def time_multi2(a, b):\n",
    "  if a > 0 and b > 0:\n",
    "    v_1 = -3*(math.exp(-((a)**2+(b)**2)**2))+4\n",
    "    return v_1\n",
    "  elif a > 0 and b < 0:\n",
    "    new_val = a + b\n",
    "    if new_val >= 0:\n",
    "      b = new_val\n",
    "      v_2 = -3*(math.exp(-(a**2+b**2)**2))+4\n",
    "      return v_2\n",
    "    elif new_val <= 0:\n",
    "      a = new_val\n",
    "      v_3 = math.exp(-(a**2+b**2)**2)\n",
    "      return v_3\n",
    "  elif a < 0 and b > 0:\n",
    "    new_val = b + a\n",
    "    if new_val >= 0:\n",
    "      a = new_val\n",
    "      v_4 = -3*(math.exp(-(a**2+b**2)**2))+4\n",
    "      return v_4\n",
    "    elif new_val <= 0:\n",
    "      b = new_val\n",
    "      v_5 = math.exp(-(a**2+b**2)**2)\n",
    "      return v_5\n",
    "  elif a < 0 and b < 0:\n",
    "    v_6 = math.exp(-(a**2+b**2)**2)\n",
    "    return v_6\n",
    "'''\n",
    "    "
   ]
  },
  {
   "cell_type": "code",
   "execution_count": 1,
   "metadata": {
    "colab": {},
    "colab_type": "code",
    "id": "TJSGgijJRKzM"
   },
   "outputs": [
    {
     "ename": "NameError",
     "evalue": "name 'time_multi' is not defined",
     "output_type": "error",
     "traceback": [
      "\u001b[1;31m---------------------------------------------------------------------------\u001b[0m",
      "\u001b[1;31mNameError\u001b[0m                                 Traceback (most recent call last)",
      "\u001b[1;32m<ipython-input-1-505024703bb8>\u001b[0m in \u001b[0;36m<module>\u001b[1;34m\u001b[0m\n\u001b[0;32m      1\u001b[0m \u001b[1;31m# error keeps coming saying that \"'int' object is not callable\", hence proceed\u001b[0m\u001b[1;33m\u001b[0m\u001b[1;33m\u001b[0m\u001b[1;33m\u001b[0m\u001b[0m\n\u001b[0;32m      2\u001b[0m \u001b[1;31m# to next block where instead of using a function the same block of code is repeated\u001b[0m\u001b[1;33m\u001b[0m\u001b[1;33m\u001b[0m\u001b[1;33m\u001b[0m\u001b[0m\n\u001b[1;32m----> 3\u001b[1;33m \u001b[0mmulti_2\u001b[0m \u001b[1;33m=\u001b[0m \u001b[0mtime_multi\u001b[0m\u001b[1;33m(\u001b[0m\u001b[0mj\u001b[0m\u001b[1;33m,\u001b[0m \u001b[0mk\u001b[0m\u001b[1;33m)\u001b[0m\u001b[1;33m\u001b[0m\u001b[1;33m\u001b[0m\u001b[0m\n\u001b[0m\u001b[0;32m      4\u001b[0m \u001b[0mmulti_2\u001b[0m \u001b[1;33m=\u001b[0m \u001b[0mmulti_2\u001b[0m\u001b[1;33m/\u001b[0m\u001b[1;36m2.6666666666667\u001b[0m\u001b[1;33m\u001b[0m\u001b[1;33m\u001b[0m\u001b[0m\n\u001b[0;32m      5\u001b[0m \u001b[1;32mif\u001b[0m \u001b[0mmulti_2\u001b[0m \u001b[1;33m<\u001b[0m \u001b[1;36m0.25\u001b[0m\u001b[1;33m:\u001b[0m\u001b[1;33m\u001b[0m\u001b[1;33m\u001b[0m\u001b[0m\n",
      "\u001b[1;31mNameError\u001b[0m: name 'time_multi' is not defined"
     ]
    }
   ],
   "source": [
    "# error keeps coming saying that \"'int' object is not callable\", hence proceed\n",
    "# to next block where instead of using a function the same block of code is repeated\n",
    "multi_2 = time_multi(j, k)\n",
    "multi_2 = multi_2/2.6666666666667\n",
    "if multi_2 < 0.25:\n",
    "    multi_2 = 0.25\n",
    "print('Specific task multiplier:', multi_2)"
   ]
  },
  {
   "cell_type": "code",
   "execution_count": 78,
   "metadata": {
    "colab": {},
    "colab_type": "code",
    "id": "X_OwVaKfgUse"
   },
   "outputs": [
    {
     "name": "stdout",
     "output_type": "stream",
     "text": [
      "-----------Recommendation-----------\n",
      "Combined multiplier: 0.0006684263933880161\n",
      "Therefore you should spend 0.023060710571886557 hrs on this task each week.\n",
      "How many days would you like to commit to this task each week?:    5\n",
      "You should spend 00:00 hrs each day.\n"
     ]
    }
   ],
   "source": [
    "new_multi = multi_2 * multi_1\n",
    "print('-----------Recommendation-----------')\n",
    "print('Combined multiplier:', new_multi)\n",
    "print('Therefore you should spend', new_multi*z_1, 'hrs on this task each week.')\n",
    "p1 = 0\n",
    "\n",
    "while p1 == 0:\n",
    "    days = input('How many days would you like to commit to this task each week?:    ')\n",
    "    try:\n",
    "        days = int(days)\n",
    "    except:\n",
    "        print('Please input a whole number of days...')\n",
    "    else:\n",
    "        if days > 7:\n",
    "            print('There are only 7 days in a week...')\n",
    "        else:\n",
    "            p1 += 1\n",
    "\n",
    "import datetime\n",
    "time = round((new_multi*z_1)/(days), 2)\n",
    "hour = int(time)\n",
    "minute = int((time - int(time))*60.0)\n",
    "print('You should spend', (datetime.time(hour, minute)).strftime('%H:%M'), '(hrs:mins) each day on this task.')"
   ]
  }
 ],
 "metadata": {
  "colab": {
   "collapsed_sections": [],
   "name": "Multiplier for time",
   "provenance": []
  },
  "kernelspec": {
   "display_name": "Python 3",
   "language": "python",
   "name": "python3"
  },
  "language_info": {
   "codemirror_mode": {
    "name": "ipython",
    "version": 3
   },
   "file_extension": ".py",
   "mimetype": "text/x-python",
   "name": "python",
   "nbconvert_exporter": "python",
   "pygments_lexer": "ipython3",
   "version": "3.7.3"
  }
 },
 "nbformat": 4,
 "nbformat_minor": 1
}
